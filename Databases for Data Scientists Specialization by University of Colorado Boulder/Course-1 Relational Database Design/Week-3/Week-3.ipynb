{
 "cells": [
  {
   "cell_type": "markdown",
   "id": "10cf289f-02d4-4873-8a40-7abd27b0e156",
   "metadata": {},
   "source": [
    "# <font color= blue> Databases for Data Scientists Specialization by University of Colorado Boulder </font> on COURSERA #"
   ]
  },
  {
   "cell_type": "markdown",
   "id": "b8a808e8-4af7-4d3b-af3f-8bd660103aca",
   "metadata": {},
   "source": [
    "## Part-2 of course 1-Relational Database Design ##"
   ]
  },
  {
   "cell_type": "markdown",
   "id": "2d23f268-d847-4946-ac6f-535c9b9609d7",
   "metadata": {},
   "source": [
    "### Learning Objectives ###\n",
    "- Be able to explain the need for normalization\n",
    "- Be able to explain functional dependencies, full/partial FDs, and transitive FDs\n",
    "- Be able to explain different forms of normalization, and normalize a relational model to 3NF\n",
    "- Understanding and utilize the definition of Normal Forms\n",
    "- Be able to conduct Normalization Process\n"
   ]
  },
  {
   "cell_type": "markdown",
   "id": "7b3b43b4-dd16-43b9-918d-d8ff57e3d891",
   "metadata": {},
   "source": [
    "#### WHAT IS DATA NORMALIZATION AND DATA REDUDANCY ####"
   ]
  },
  {
   "cell_type": "code",
   "execution_count": null,
   "id": "8ae38800-5531-484a-a097-84a43742374d",
   "metadata": {},
   "outputs": [],
   "source": []
  }
 ],
 "metadata": {
  "kernelspec": {
   "display_name": "Python 3 (ipykernel)",
   "language": "python",
   "name": "python3"
  },
  "language_info": {
   "codemirror_mode": {
    "name": "ipython",
    "version": 3
   },
   "file_extension": ".py",
   "mimetype": "text/x-python",
   "name": "python",
   "nbconvert_exporter": "python",
   "pygments_lexer": "ipython3",
   "version": "3.9.7"
  }
 },
 "nbformat": 4,
 "nbformat_minor": 5
}
