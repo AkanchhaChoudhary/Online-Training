{
 "cells": [
  {
   "cell_type": "markdown",
   "id": "10cf289f-02d4-4873-8a40-7abd27b0e156",
   "metadata": {},
   "source": [
    "# <font color= blue> Databases for Data Scientists Specialization by University of Colorado Boulder </font> on COURSERA #"
   ]
  },
  {
   "cell_type": "code",
   "execution_count": null,
   "id": "6b17d9d5-c533-4be2-a874-df0838461279",
   "metadata": {},
   "outputs": [],
   "source": []
  }
 ],
 "metadata": {
  "kernelspec": {
   "display_name": "Python 3 (ipykernel)",
   "language": "python",
   "name": "python3"
  },
  "language_info": {
   "codemirror_mode": {
    "name": "ipython",
    "version": 3
   },
   "file_extension": ".py",
   "mimetype": "text/x-python",
   "name": "python",
   "nbconvert_exporter": "python",
   "pygments_lexer": "ipython3",
   "version": "3.9.7"
  }
 },
 "nbformat": 4,
 "nbformat_minor": 5
}
