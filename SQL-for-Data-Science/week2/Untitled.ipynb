{
 "cells": [
  {
   "cell_type": "markdown",
   "id": "a9afef99-8197-403c-bd62-78421a04df32",
   "metadata": {},
   "source": [
    "# <font color= blue> Learn SQL Basics for Data Science Specialization by UCDAVIS </font>  #"
   ]
  },
  {
   "cell_type": "markdown",
   "id": "c8907e0a-53ba-45a3-beba-9e9138da42ab",
   "metadata": {},
   "source": [
    "## Week-2 of course 1-SQL for Data Science ##"
   ]
  },
  {
   "cell_type": "markdown",
   "id": "679f5548-ccc8-430d-ac31-957baf0b638d",
   "metadata": {},
   "source": [
    "### Learning Objectives ###\n",
    "- Compare analytics tool and CPU time performance between a filtered and unfiltered dataset.\n",
    "- Given a dataset analysis requirement, use WHERE, IN, NOT, AND, and OR alone or in combination to filter the dataset.\n",
    "- Determine whether or not to use wildcards in a data filter or search situation.\n",
    "- Use wildcards to search or filter data based on requirements. Use regular expressions for text processing\n",
    "- Use ORDER BY to sort data according to requirements for number of columns in the sort, sort direction, and sort position.\n",
    "- Create common math operation calculated fields and aliases for calculated fields.\n",
    "- Use AVG, COUNT, MAX, MIN, SUM to profile data.\n",
    "- Summarize data according to one or more criterion using GROUP BY and HAVING clauses."
   ]
  },
  {
   "cell_type": "code",
   "execution_count": null,
   "id": "4fbb9e9f-7ded-47ae-8e2f-a12fd191d66d",
   "metadata": {},
   "outputs": [],
   "source": []
  }
 ],
 "metadata": {
  "kernelspec": {
   "display_name": "Python 3 (ipykernel)",
   "language": "python",
   "name": "python3"
  },
  "language_info": {
   "codemirror_mode": {
    "name": "ipython",
    "version": 3
   },
   "file_extension": ".py",
   "mimetype": "text/x-python",
   "name": "python",
   "nbconvert_exporter": "python",
   "pygments_lexer": "ipython3",
   "version": "3.9.7"
  }
 },
 "nbformat": 4,
 "nbformat_minor": 5
}
