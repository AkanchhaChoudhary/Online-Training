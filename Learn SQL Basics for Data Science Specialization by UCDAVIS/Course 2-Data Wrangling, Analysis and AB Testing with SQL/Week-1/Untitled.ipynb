{
 "cells": [
  {
   "cell_type": "markdown",
   "id": "62f83e78-4f81-4abf-8f63-18889a98d655",
   "metadata": {},
   "source": [
    "# <font color= blue> Learn SQL Basics for Data Science Specialization by UCDAVIS </font>  #"
   ]
  },
  {
   "cell_type": "markdown",
   "id": "3f288601-281d-4ac7-899a-66214094a17c",
   "metadata": {},
   "source": [
    "## Week-1 & 2 of Data Wrangling, Analysis and AB Testing with SQL ##"
   ]
  },
  {
   "cell_type": "markdown",
   "id": "4226a66f-d30f-4084-a702-72a7ccb0f862",
   "metadata": {},
   "source": [
    "### Learning Objectives ###\n",
    "- Create trustworthy analysis from a new dataset.\n",
    "- Coalesce some nulls and identify unreliable data.\n",
    "- Discover reasons why data might be missing.\n",
    "- Answer ambiguous questions by defining new metrics.\n",
    "- Name the categories of data types.\n",
    "- Explain how the unfiltered data can be manipulated into a table.\n",
    "- Discuss why a data warehouse is separate from a production database.\n",
    "- Use tools to create your own trustworthy table."
   ]
  },
  {
   "cell_type": "markdown",
   "id": "6b289016-adc5-4e7b-bb1b-9af907c20580",
   "metadata": {},
   "source": [
    "In this course I did all my assignment using Mode Analytics tool to do SQL."
   ]
  },
  {
   "cell_type": "markdown",
   "id": "40532600-4650-48b8-95b0-fd91aaa79a00",
   "metadata": {},
   "source": [
    "### Flexible Data Formats-Event Table and Pivot. ###\n",
    "\n",
    "You can think of an event table as the receipts of real things that happened. They mostly reference the primary keys of other tables and are generally not edited or updated once they're created. We think of these differently from dimensions like users tables because they're big and they don't need to be stored in an editable format."
   ]
  },
  {
   "cell_type": "markdown",
   "id": "531b96ec-aff2-47ba-a601-cc0a316e1bce",
   "metadata": {},
   "source": [
    "### Identifying Unreliable Data + Nulls ###\n",
    "\n",
    "One of the important job in working with SQL is to find out if the data that we are using is reliable enough to answer all kind of supposed business problems.Its important to segment and visualise data to check for its completeness beforehand.First, you should look at the name of the table. If a table name has temp or a date, chances are it was created for a one-off analysis and it may no longer reflect the current state of the world. Another hint is to look at the schema of the table is in. That means looking at the words before the dot.If you're troubleshooting a complicated query or you're joining in a new table, a good simple sanity check is just to make sure that the table or column isn't empty.Doing a simple Group By on the table can be super helpful for all kinds of troubleshooting.  Check if the number of rows is what you expect before publishing an analysis or building a model based on this data. Another thing to be aware of is the null value."
   ]
  }
 ],
 "metadata": {
  "kernelspec": {
   "display_name": "Python 3 (ipykernel)",
   "language": "python",
   "name": "python3"
  },
  "language_info": {
   "codemirror_mode": {
    "name": "ipython",
    "version": 3
   },
   "file_extension": ".py",
   "mimetype": "text/x-python",
   "name": "python",
   "nbconvert_exporter": "python",
   "pygments_lexer": "ipython3",
   "version": "3.9.7"
  }
 },
 "nbformat": 4,
 "nbformat_minor": 5
}
