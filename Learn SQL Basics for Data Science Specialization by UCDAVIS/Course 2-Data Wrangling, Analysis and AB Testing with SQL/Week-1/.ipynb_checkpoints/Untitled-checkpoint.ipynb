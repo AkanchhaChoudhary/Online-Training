{
 "cells": [
  {
   "cell_type": "markdown",
   "id": "62f83e78-4f81-4abf-8f63-18889a98d655",
   "metadata": {},
   "source": [
    "# <font color= blue> Learn SQL Basics for Data Science Specialization by UCDAVIS </font>  #"
   ]
  },
  {
   "cell_type": "markdown",
   "id": "3f288601-281d-4ac7-899a-66214094a17c",
   "metadata": {},
   "source": [
    "## Week-1 of Data Wrangling, Analysis and AB Testing with SQL ##"
   ]
  },
  {
   "cell_type": "code",
   "execution_count": null,
   "id": "b771dbb2-0222-42a0-b75c-a30b750d9736",
   "metadata": {},
   "outputs": [],
   "source": []
  }
 ],
 "metadata": {
  "kernelspec": {
   "display_name": "Python 3 (ipykernel)",
   "language": "python",
   "name": "python3"
  },
  "language_info": {
   "codemirror_mode": {
    "name": "ipython",
    "version": 3
   },
   "file_extension": ".py",
   "mimetype": "text/x-python",
   "name": "python",
   "nbconvert_exporter": "python",
   "pygments_lexer": "ipython3",
   "version": "3.9.7"
  }
 },
 "nbformat": 4,
 "nbformat_minor": 5
}
