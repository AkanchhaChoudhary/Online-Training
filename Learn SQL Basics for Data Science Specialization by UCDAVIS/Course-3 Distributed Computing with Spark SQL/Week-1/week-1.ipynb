{
 "cells": [
  {
   "cell_type": "markdown",
   "id": "93714c4c-441f-4cd7-ae5b-0b1673db3979",
   "metadata": {},
   "source": [
    "# <font color= blue> Learn SQL Basics for Data Science Specialization by UCDAVIS </font>  #"
   ]
  },
  {
   "cell_type": "markdown",
   "id": "eb155132-ff74-4dd2-9c7e-6770150c3022",
   "metadata": {},
   "source": [
    "## course 3-Distributed Computing with Spark SQL ##"
   ]
  },
  {
   "cell_type": "markdown",
   "id": "0b8fc55a-f920-4bd6-abb9-a84ee7f618f6",
   "metadata": {},
   "source": [
    "### Follow the link to see my learning in databricks environment.###"
   ]
  },
  {
   "cell_type": "markdown",
   "id": "e92065cc-2f6c-486d-a244-ea5862c74036",
   "metadata": {},
   "source": [
    "https://databricks-prod-cloudfront.cloud.databricks.com/public/4027ec902e239c93eaaa8714f173bcfc/6302813296822450/1157944569646767/4155951448646284/latest.html"
   ]
  },
  {
   "cell_type": "markdown",
   "id": "59115385-f274-4598-8e02-0f03be0a80d2",
   "metadata": {},
   "source": [
    "https://databricks-prod-cloudfront.cloud.databricks.com/public/4027ec902e239c93eaaa8714f173bcfc/6302813296822450/1157944569646753/4155951448646284/latest.html"
   ]
  },
  {
   "cell_type": "code",
   "execution_count": null,
   "id": "59e84bd1-d81f-47e7-ab34-46b4ae5a89a2",
   "metadata": {},
   "outputs": [],
   "source": []
  }
 ],
 "metadata": {
  "kernelspec": {
   "display_name": "Python 3 (ipykernel)",
   "language": "python",
   "name": "python3"
  },
  "language_info": {
   "codemirror_mode": {
    "name": "ipython",
    "version": 3
   },
   "file_extension": ".py",
   "mimetype": "text/x-python",
   "name": "python",
   "nbconvert_exporter": "python",
   "pygments_lexer": "ipython3",
   "version": "3.9.7"
  }
 },
 "nbformat": 4,
 "nbformat_minor": 5
}
